{
 "cells": [
  {
   "cell_type": "markdown",
   "metadata": {},
   "source": [
    "# Dependencies"
   ]
  },
  {
   "cell_type": "code",
   "execution_count": 2,
   "metadata": {},
   "outputs": [],
   "source": [
    "from manim import *\n",
    "import numpy as np\n",
    "import math\n",
    "import matplotlib.pyplot as plt"
   ]
  },
  {
   "cell_type": "code",
   "execution_count": 3,
   "metadata": {},
   "outputs": [],
   "source": [
    "def remove_invisible_chars(mobject: SVGMobject) -> SVGMobject:\n",
    "    \"\"\"Function to remove unwanted invisible characters from some mobjects.\n",
    "\n",
    "    Parameters\n",
    "    ----------\n",
    "    mobject\n",
    "        Any SVGMobject from which we want to remove unwanted invisible characters.\n",
    "\n",
    "    Returns\n",
    "    -------\n",
    "    :class:`~.SVGMobject`\n",
    "        The SVGMobject without unwanted invisible characters.\n",
    "    \"\"\"\n",
    "    # TODO: Refactor needed\n",
    "    iscode = False\n",
    "    if mobject.__class__.__name__ == \"Text\":\n",
    "        mobject = mobject[:]\n",
    "    elif mobject.__class__.__name__ == \"Code\":\n",
    "        iscode = True\n",
    "        code = mobject\n",
    "        mobject = mobject.code\n",
    "    mobject_without_dots = VGroup()\n",
    "    if mobject[0].__class__ == VGroup:\n",
    "        for i in range(len(mobject)):\n",
    "            mobject_without_dots.add(VGroup())\n",
    "            mobject_without_dots[i].add(*(k for k in mobject[i] if k.__class__ != Dot))\n",
    "    else:\n",
    "        mobject_without_dots.add(*(k for k in mobject if k.__class__ != Dot))\n",
    "    if iscode:\n",
    "        code.code = mobject_without_dots\n",
    "        return code\n",
    "    return mobject_without_dots"
   ]
  },
  {
   "cell_type": "markdown",
   "metadata": {},
   "source": [
    "# Motivation"
   ]
  },
  {
   "cell_type": "code",
   "execution_count": 72,
   "metadata": {},
   "outputs": [
    {
     "data": {
      "text/html": [
       "<pre style=\"white-space:pre;overflow-x:auto;line-height:normal;font-family:Menlo,'DejaVu Sans Mono',consolas,'Courier New',monospace\">Manim Community <span style=\"color: #008000; text-decoration-color: #008000\">v0.18.1</span>\n",
       "\n",
       "</pre>\n"
      ],
      "text/plain": [
       "Manim Community \u001b[32mv0.\u001b[0m\u001b[32m18.1\u001b[0m\n",
       "\n"
      ]
     },
     "metadata": {},
     "output_type": "display_data"
    },
    {
     "name": "stderr",
     "output_type": "stream",
     "text": [
      "                                                                                                                  \r"
     ]
    },
    {
     "data": {
      "text/html": [
       "<video src=\"media/jupyter/Motivation@2024-06-11@17-13-26.mp4\" controls autoplay loop style=\"max-width: 60%;\"  >\n",
       "      Your browser does not support the <code>video</code> element.\n",
       "    </video>"
      ],
      "text/plain": [
       "<IPython.core.display.Video object>"
      ]
     },
     "metadata": {},
     "output_type": "display_data"
    }
   ],
   "source": [
    "%%manim -qk -v WARNING Motivation\n",
    "\n",
    "class Motivation(Scene):\n",
    "    def construct(self):\n",
    "        title = Title(\"Particle-based Simulation\")\n",
    "        box1 = Rectangle(width=5, height=2.5).next_to(title, DOWN).to_edge(LEFT)\n",
    "        box2 = Rectangle(width=5, height=2.5).next_to(title, DOWN).to_edge(RIGHT)\n",
    "        box3 = Rectangle(width=5, height=2.5).to_edge(DOWN).to_edge(LEFT)\n",
    "        box4 = Rectangle(width=5, height=2.5).to_edge(DOWN).to_edge(RIGHT)\n",
    "        self.play(Create(box1))\n",
    "        self.wait(3)\n",
    "        self.play(Create(box2), Create(box3), Create(box4))\n",
    "        self.wait(2)\n",
    "        self.play(Write(title))\n",
    "        self.wait(1)\n",
    "        self.play(\n",
    "            *[FadeOut(mob)for mob in self.mobjects]\n",
    "        )\n",
    "        self.wait(1)\n",
    "        \n",
    "        title = Title(\"Partial Differential Equations\")\n",
    "        self.play(Write(title))\n",
    "        self.wait(1)\n",
    "        box1 = Rectangle(width=4, height=1.9).next_to(title, DOWN).to_edge(LEFT)\n",
    "        text1 = Tex(\"Fluid flow\").next_to(box1, RIGHT).shift(RIGHT)\n",
    "        text1b = Tex(\"Fields: Velocity and Pressure\").scale(0.6).next_to(text1, RIGHT).to_edge(RIGHT)\n",
    "        self.play(Create(box1), Write(text1))\n",
    "        self.wait(1)\n",
    "        box2 = Rectangle(width=4, height=1.9).next_to(box1, DOWN)\n",
    "        text2 = Tex(\"Heat flow\").next_to(box2, RIGHT).shift(RIGHT)\n",
    "        text2b = Tex(\"Fields: Temperature\").scale(0.6).next_to(text2, RIGHT).to_edge(RIGHT)\n",
    "        self.play(Create(box2), Write(text2))\n",
    "        self.wait(1)\n",
    "        box3 = Rectangle(width=4, height=1.9).next_to(box2, DOWN)\n",
    "        text3 = Tex(\"Wave propagation\").next_to(box3, RIGHT).shift(RIGHT)\n",
    "        self.play(Create(box3), Write(text3))\n",
    "        self.wait(1)\n",
    "        self.play(Write(text1b), Write(text2b))\n",
    "        self.wait(1)\n",
    "        self.play(\n",
    "            *[FadeOut(mob)for mob in self.mobjects if mob != text3]\n",
    "        )\n",
    "        self.wait(1)\n",
    "\n",
    "        title = Title(\"Wave Simulation\")\n",
    "        self.play(ReplacementTransform(text3, title))\n",
    "        self.wait(1)\n",
    "        box1 = Rectangle(width=4, height=1.9).next_to(title, DOWN).to_edge(LEFT)\n",
    "        text1 = MathTex(r\"\\frac{\\partial^2 u(x,t)}{\\partial t^2}=c^2 \\frac{\\partial^2 u(x,t)}{\\partial x^2} + s(x,t)\").scale(0.6).next_to(box1, RIGHT).shift(RIGHT)\n",
    "        self.play(Create(box1), Write(text1))\n",
    "        self.wait(1)\n",
    "        box2 = Rectangle(width=4, height=1.9).next_to(box1, DOWN)\n",
    "        box3 = Rectangle(width=4, height=1.9).next_to(box2, DOWN)\n",
    "        text3 = MathTex(r\"\\frac{\\partial^2 p(x,y,t)}{\\partial t^2}=c(x,y)^2 \\bigg[\\frac{\\partial^2 p(x,y,t)}{\\partial x^2} + \\frac{\\partial^2 p(x,y,t)}{\\partial y^2}\\bigg] + s(x,y,t)\").scale(0.6).next_to(VGroup(box2, box3), RIGHT).shift(RIGHT)\n",
    "        self.play(Create(box2), Create(box3), Write(text3))\n",
    "        self.wait(3)\n",
    "        self.play(\n",
    "            *[FadeOut(mob)for mob in self.mobjects]\n",
    "        )\n",
    "        self.wait(1)\n"
   ]
  },
  {
   "cell_type": "markdown",
   "metadata": {},
   "source": [
    "# Introduction"
   ]
  },
  {
   "cell_type": "code",
   "execution_count": 73,
   "metadata": {},
   "outputs": [
    {
     "data": {
      "text/html": [
       "<pre style=\"white-space:pre;overflow-x:auto;line-height:normal;font-family:Menlo,'DejaVu Sans Mono',consolas,'Courier New',monospace\">Manim Community <span style=\"color: #008000; text-decoration-color: #008000\">v0.18.1</span>\n",
       "\n",
       "</pre>\n"
      ],
      "text/plain": [
       "Manim Community \u001b[32mv0.\u001b[0m\u001b[32m18.1\u001b[0m\n",
       "\n"
      ]
     },
     "metadata": {},
     "output_type": "display_data"
    },
    {
     "name": "stderr",
     "output_type": "stream",
     "text": [
      "                                                                                                                                                                                               \r"
     ]
    },
    {
     "data": {
      "text/html": [
       "<video src=\"media/jupyter/Introduction@2024-06-11@17-14-36.mp4\" controls autoplay loop style=\"max-width: 60%;\"  >\n",
       "      Your browser does not support the <code>video</code> element.\n",
       "    </video>"
      ],
      "text/plain": [
       "<IPython.core.display.Video object>"
      ]
     },
     "metadata": {},
     "output_type": "display_data"
    }
   ],
   "source": [
    "%%manim -qk -v WARNING Introduction\n",
    "\n",
    "class Introduction(Scene):\n",
    "    def construct(self):\n",
    "        # Opening\n",
    "        eq1d = MathTex(r\"\\frac{\\partial^2 u(x,t)}{\\partial t^2}\",r\"=\", r\"c^2\", r\"\\frac{\\partial^2 u(x,t)}{\\partial x^2}\", r\"+\", r\"s(x,t)\").scale(1).to_edge(UP)\n",
    "        self.play(Write(eq1d))\n",
    "        self.wait(1)\n",
    "        # Explaining u(x,t)\n",
    "        box1 = Rectangle(width=5, height=3).to_edge(LEFT).shift(DOWN)\n",
    "        arrow1 = Arrow(start=box1.get_edge_center(RIGHT), end=box1.get_edge_center(RIGHT)+2*UP).shift(0.5*RIGHT)\n",
    "        arrow2 = Arrow(start=box1.get_edge_center(RIGHT), end=box1.get_edge_center(RIGHT)+2*DOWN).shift(0.5*RIGHT)\n",
    "        text = Tex(r\"$u(x,t)$\", \" is the displacement of string from the center\").scale(0.65).next_to(VGroup(arrow1, arrow2), RIGHT)\n",
    "        self.play(Create(box1))\n",
    "        self.wait(1)\n",
    "        self.play(Create(arrow1), Create(arrow2), Write(text))\n",
    "        self.wait(1)\n",
    "        self.play(FadeOut(box1, arrow1, arrow2, text))\n",
    "        self.wait(1)\n",
    "        # Highlighting 2nd derivatives\n",
    "        self.play(ScaleInPlace(VGroup(eq1d[0], eq1d[3]), 1.15))\n",
    "        self.wait(1)\n",
    "        self.play(ScaleInPlace(VGroup(eq1d[0], eq1d[3]), 1/1.15))\n",
    "        self.wait(1)\n",
    "        # Highlighting c\n",
    "        self.play(ScaleInPlace(eq1d[2], 1.15))\n",
    "        self.wait(1)\n",
    "        # Showcasing different c\n",
    "        box1 = Rectangle(width=4.25, height=2).next_to(eq1d, DOWN).shift(DOWN).to_edge(LEFT)\n",
    "        text1 = Tex(\"Medium Velocity: \", r\"$50 m/s$\").scale(0.6).next_to(box1, RIGHT)\n",
    "        box2 = Rectangle(width=4.25, height=2).next_to(box1, DOWN)\n",
    "        text2 = Tex(\"Medium Velocity: \", r\"$250 m/s$\").scale(0.6).next_to(box2, RIGHT)\n",
    "        self.play(Create(box1), Create(box2))\n",
    "        self.wait(1)\n",
    "        self.play(Write(text1), Write(text2))\n",
    "        self.wait(1)\n",
    "        self.play(FadeOut(text1, text2), ScaleInPlace(eq1d[2], 1/1.15))\n",
    "        self.wait(1)\n",
    "        # Showcasing s(x,t)\n",
    "        self.play(ScaleInPlace(eq1d[-1], 1.15))\n",
    "        self.wait(1)\n",
    "        text1 = Tex(r\"$s(x,t)=-8 (t - t_0) \\cdot f_0 \\cdot e^{-1 (4*f_0)^2 (t - t_0)^2} \\cdot \\frac{x_{\\text{max}}}{n_x-1}$\").scale(0.75).next_to(box1, RIGHT)\n",
    "        text2 = Tex(r\"$s(x,t)=e^{-1 (4*f_0)^2 (t - t_0)^2} \\cdot \\frac{x_{\\text{max}}}{n_x-1}$\").scale(0.75).next_to(box2, RIGHT)\n",
    "        self.play(Write(text1), Write(text2))\n",
    "        self.wait(1)\n",
    "        self.play(FadeOut(text1, text2, box2), ScaleInPlace(eq1d[-1], 1/1.15))\n",
    "        self.wait(1)\n",
    "        # Showcasing Boundaries\n",
    "        box2 = Rectangle(width=4.25, height=2).next_to(box1, RIGHT)\n",
    "        box3 = Rectangle(width=4.25, height=2).next_to(box2, RIGHT)\n",
    "        text1 = Tex(\"Fixed Boundaries\").scale(0.65).next_to(box1, DOWN)\n",
    "        text2 = Tex(\"Free Boundaries\").scale(0.65).next_to(box2, DOWN)\n",
    "        text3 = Tex(\"Absorbing Boundaries\").scale(0.65).next_to(box3, DOWN)\n",
    "        self.play(Write(text1))\n",
    "        self.wait(2)\n",
    "        self.play(Create(box2))\n",
    "        self.play(Write(text2))\n",
    "        self.wait(2)\n",
    "        self.play(Create(box3))\n",
    "        self.play(Write(text3))\n",
    "        self.wait(2)\n",
    "        self.play(FadeOut(text1, text2, text3, box1, box2, box3))\n",
    "        self.wait(2)"
   ]
  },
  {
   "cell_type": "markdown",
   "metadata": {},
   "source": [
    "# Finite Difference Method"
   ]
  },
  {
   "cell_type": "code",
   "execution_count": 115,
   "metadata": {},
   "outputs": [
    {
     "data": {
      "text/html": [
       "<pre style=\"white-space:pre;overflow-x:auto;line-height:normal;font-family:Menlo,'DejaVu Sans Mono',consolas,'Courier New',monospace\">Manim Community <span style=\"color: #008000; text-decoration-color: #008000\">v0.18.1</span>\n",
       "\n",
       "</pre>\n"
      ],
      "text/plain": [
       "Manim Community \u001b[32mv0.\u001b[0m\u001b[32m18.1\u001b[0m\n",
       "\n"
      ]
     },
     "metadata": {},
     "output_type": "display_data"
    },
    {
     "name": "stderr",
     "output_type": "stream",
     "text": [
      "                                                                                                                               \r"
     ]
    },
    {
     "data": {
      "text/html": [
       "<video src=\"media/jupyter/FDM_Introduction@2024-06-12@20-50-42.mp4\" controls autoplay loop style=\"max-width: 60%;\"  >\n",
       "      Your browser does not support the <code>video</code> element.\n",
       "    </video>"
      ],
      "text/plain": [
       "<IPython.core.display.Video object>"
      ]
     },
     "metadata": {},
     "output_type": "display_data"
    }
   ],
   "source": [
    "%%manim -qk -v WARNING FDM_Introduction\n",
    "\n",
    "class FDM_Introduction(Scene):\n",
    "    def construct(self):\n",
    "        # Opening\n",
    "        eq1d = MathTex(r\"\\frac{\\partial^2 u(x,t)}{\\partial t^2}\",r\"=\", r\"c^2\", r\"\\frac{\\partial^2 u(x,t)}{\\partial x^2}\", r\"+\", r\"s(x,t)\").scale(1).to_edge(UP)\n",
    "        self.add(eq1d)\n",
    "        # Axes\n",
    "        ax = Axes(\n",
    "            x_range=[0, 10, 1],\n",
    "            y_range=[0, 1, 0.1],\n",
    "            tips=False,\n",
    "            axis_config={\"include_numbers\": False,\n",
    "                        \"include_ticks\": False},\n",
    "        ).scale(0.6).to_edge(DOWN).to_edge(LEFT).shift(0.5*UP+0.5*RIGHT)\n",
    "        x_label = ax.get_x_axis_label(\"x\", edge=DOWN, direction=DOWN, buff=0.4)\n",
    "        y_label = ax.get_y_axis_label(\"t\", edge=LEFT, direction=LEFT, buff=0.4)\n",
    "        ax_labels = VGroup(x_label, y_label)\n",
    "        self.play(Create(ax), Create(ax_labels))\n",
    "        self.wait(1)\n",
    "        # Just ticks axes\n",
    "        ax_new = Axes(\n",
    "            x_range=[0, 10, 1],\n",
    "            y_range=[0, 1, 0.1],\n",
    "            tips=False,\n",
    "            axis_config={\"include_numbers\": True,\n",
    "                        \"include_ticks\": True},\n",
    "        ).scale(0.6).to_edge(DOWN).to_edge(LEFT).shift(0.5*UP+0.5*RIGHT)\n",
    "        x_label_new = ax_new.get_x_axis_label(\"x\", edge=DOWN, direction=DOWN, buff=0.4)\n",
    "        y_label_new = ax_new.get_y_axis_label(\"t\", edge=LEFT, direction=LEFT, buff=0.4)\n",
    "        ax_labels_new = VGroup(x_label_new, y_label_new)\n",
    "        # Discrete points\n",
    "        dots = VGroup()\n",
    "        for i in range(11):\n",
    "            for j in range(11):\n",
    "                dots.add(Dot(ax_new.coords_to_point(i, j*0.1)))\n",
    "        self.play(ReplacementTransform(VGroup(ax, ax_labels), VGroup(ax_new, ax_labels_new)))\n",
    "        self.play(Create(dots))\n",
    "        self.wait(1)\n",
    "        self.play(dots.animate.set_color(RED))\n",
    "        self.wait(1)\n",
    "        # Boundaries define\n",
    "        text1 = Tex(\"PDE is only defined for the interior points\").scale(0.75).next_to(ax_new, UP).shift(0.25*UP)\n",
    "        box = Rectangle(width=6.25, height=3.65).move_to(ax_new).shift(0.3*UP+0.2*RIGHT)\n",
    "        self.play(Write(text1), Create(box))\n",
    "        self.wait(1)\n",
    "        text2 = Tex(\"Boundary and Initial points = 0\").scale(0.65).next_to(ax_new, RIGHT).shift(0.25*RIGHT)\n",
    "        self.play(Write(text2), dots[:11].animate.set_color(WHITE), dots[11::11].animate.set_color(WHITE), dots[-11:].animate.set_color(WHITE))\n",
    "        self.wait(1)\n",
    "        self.play(FadeOut(box, text1, text2))\n",
    "        self.wait(1)\n",
    "        text1 = Tex(\"PDE is defined for the continuous domain\").scale(0.75).next_to(eq1d, DOWN).shift(0.25*DOWN)\n",
    "        self.play(Write(text1))\n",
    "        self.wait(1)\n",
    "        self.play(FadeOut(text1, ax_new, ax_labels_new, dots))\n",
    "        self.wait(1)"
   ]
  },
  {
   "cell_type": "code",
   "execution_count": 116,
   "metadata": {},
   "outputs": [
    {
     "data": {
      "text/html": [
       "<pre style=\"white-space:pre;overflow-x:auto;line-height:normal;font-family:Menlo,'DejaVu Sans Mono',consolas,'Courier New',monospace\">Manim Community <span style=\"color: #008000; text-decoration-color: #008000\">v0.18.1</span>\n",
       "\n",
       "</pre>\n"
      ],
      "text/plain": [
       "Manim Community \u001b[32mv0.\u001b[0m\u001b[32m18.1\u001b[0m\n",
       "\n"
      ]
     },
     "metadata": {},
     "output_type": "display_data"
    },
    {
     "name": "stderr",
     "output_type": "stream",
     "text": [
      "                                                                                                                                                                       \r"
     ]
    },
    {
     "data": {
      "text/html": [
       "<video src=\"media/jupyter/FDM_Src@2024-06-12@21-28-37.mp4\" controls autoplay loop style=\"max-width: 60%;\"  >\n",
       "      Your browser does not support the <code>video</code> element.\n",
       "    </video>"
      ],
      "text/plain": [
       "<IPython.core.display.Video object>"
      ]
     },
     "metadata": {},
     "output_type": "display_data"
    }
   ],
   "source": [
    "%%manim -qk -v WARNING FDM_Src\n",
    "\n",
    "class FDM_Src(Scene):\n",
    "    def construct(self):\n",
    "        # Opening\n",
    "        eq1d = MathTex(r\"\\frac{\\partial^2 u(x,t)}{\\partial t^2}\",r\"=\", r\"c^2\", r\"\\frac{\\partial^2 u(x,t)}{\\partial x^2}\", r\"+\", r\"s(x,t)\").scale(1).to_edge(UP)\n",
    "        self.add(eq1d)\n",
    "        # Highlighting src\n",
    "        self.play(ScaleInPlace(eq1d[-1], 1.25))\n",
    "        self.wait(1)\n",
    "        text1 = Tex(\"Instantaneous Source!\").scale(0.65).next_to(eq1d, DOWN).to_edge(RIGHT).shift(1.5*LEFT)\n",
    "        self.play(Write(text1))\n",
    "        self.wait(1)\n",
    "        # Derivative of a gaussian\n",
    "        text2 = Tex(r\"$f(t)=-8 (t - t_0) \\cdot f_0 \\cdot e^{-1 (4f_0)^2 (t - t_0)^2}$\").scale(0.7).next_to(text1, DOWN)\n",
    "        self.play(Write(text2))\n",
    "        self.wait(1)\n",
    "        ax = Axes(\n",
    "            x_range=[0, 0.25, 0.001],\n",
    "            y_range=[-1, 1, 0.1],\n",
    "            tips=False,\n",
    "            axis_config={\"include_numbers\": False,\n",
    "                        \"include_ticks\": False},\n",
    "        ).scale(0.5).next_to(text2, DOWN).to_edge(RIGHT).shift(DOWN)\n",
    "        x_label = ax.get_x_axis_label(\"t\", edge=DOWN, direction=DOWN, buff=0.1).scale(0.75)\n",
    "        y_label = ax.get_y_axis_label(\"f(t)\", edge=LEFT, direction=LEFT, buff=0.1).scale(0.75)\n",
    "        ax_labels = VGroup(x_label, y_label)\n",
    "        self.play(Create(ax), Create(ax_labels))\n",
    "        self.wait(1)\n",
    "        f0 = ValueTracker(5)\n",
    "        t0 = ValueTracker(0.1)\n",
    "        f0_ = Tex(r\"$f_0=$ \").scale(0.7).next_to(text2, DOWN).shift(2*LEFT)\n",
    "        f0__ = always_redraw(lambda: Tex(str(round(f0.get_value(),2))).scale(0.7).next_to(f0_, RIGHT))\n",
    "        t0_ = Tex(r\"$t_0=$ \").scale(0.7).next_to(text2, DOWN).shift(2*RIGHT)\n",
    "        t0__ = always_redraw(lambda: Tex(str(round(t0.get_value(),2))).scale(0.7).next_to(t0_, RIGHT))\n",
    "        dg = always_redraw(lambda: ax.plot(lambda t: -8 * (t - t0.get_value()) * f0.get_value() * (np.exp(-1.0 * (4*f0.get_value())**2 * (t - t0.get_value())**2)), x_range=[0, 0.5], use_smoothing=True))\n",
    "        self.play(Write(f0_), Write(t0_), Write(f0__), Write(t0__))\n",
    "        self.wait(1)\n",
    "        self.play(Create(dg))\n",
    "        self.wait(1)\n",
    "        self.play(f0.animate.set_value(100), run_time=10)\n",
    "        self.wait(1)\n",
    "        self.play(t0.animate.set_value(0.2), run_time=5)\n",
    "        self.wait(1)\n",
    "        self.play(FadeOut(ax, ax_labels, f0_, f0__, t0_, t0__, dg))\n",
    "        self.wait(1)\n",
    "\n",
    "        # Space Inpulse\n",
    "        ax = Axes(\n",
    "            x_range=[0, 10, 1],\n",
    "            y_range=[0, 1, 0.1],\n",
    "            tips=False,\n",
    "            axis_config={\"include_numbers\": True,\n",
    "                        \"include_ticks\": True},\n",
    "        ).scale(0.5).to_edge(DOWN).to_edge(LEFT).shift(1.5*UP+0.5*RIGHT)\n",
    "        x_label = ax.get_x_axis_label(\"x\", edge=DOWN, direction=DOWN, buff=0.4).scale(0.7)\n",
    "        y_label = ax.get_y_axis_label(\"t\", edge=LEFT, direction=LEFT, buff=0.4).scale(0.7)\n",
    "        ax_labels = VGroup(x_label, y_label)\n",
    "        # Discrete points\n",
    "        dots = VGroup()\n",
    "        for i in range(11):\n",
    "            for j in range(11):\n",
    "                dots.add(Dot(ax.coords_to_point(i, j*0.1), color=RED))\n",
    "        dots[:11].color = WHITE \n",
    "        dots[11::11].color = WHITE\n",
    "        dots[-11:].color = WHITE\n",
    "        self.play(Create(VGroup(ax, ax_labels, dots)))\n",
    "        self.wait(1)\n",
    "        dx_arrow = DoubleArrow(start=dots[11], end=dots[22]).shift(0.2*DOWN)\n",
    "        dx = Tex(r\"$dx$\").scale(0.75).next_to(dx_arrow, DOWN)\n",
    "        self.play(Create(dx_arrow), Write(dx))\n",
    "        self.wait(1)\n",
    "        text3 = Tex(r\"$\\delta(x-a)=\\frac{1}{dx} \\text{ at } x=a \\text{ and } 0 \\text{ elsewhere}$\").scale(0.7).next_to(text2, DOWN)\n",
    "        # Box\n",
    "        self.play(Write(text3))\n",
    "        self.wait(1)\n",
    "        ax_ = Axes(\n",
    "            x_range=[-1, 1, 0.001],\n",
    "            y_range=[0, 1.2, 0.1],\n",
    "            tips=False,\n",
    "            axis_config={\"include_numbers\": False,\n",
    "                        \"include_ticks\": False},\n",
    "        ).scale(0.5).next_to(text3, DOWN).to_edge(RIGHT).shift(0.25*DOWN)\n",
    "        x_label_ = ax_.get_x_axis_label(\"x\", edge=DOWN, direction=DOWN, buff=0.1).scale(0.75)\n",
    "        y_label_ = ax_.get_y_axis_label(\"\", edge=LEFT, direction=LEFT, buff=0.1).scale(0.75)\n",
    "        ax_labels_ = VGroup(x_label_, y_label_)\n",
    "        self.play(Create(ax_), Create(ax_labels_))\n",
    "        self.wait(1)\n",
    "        dx = ValueTracker(1)\n",
    "        dx_ = Tex(r\"$dx=$ \").scale(0.7).next_to(text3, DOWN).shift(2*LEFT)\n",
    "        dx__ = always_redraw(lambda: Tex(str(round(dx.get_value(),2))).scale(0.7).next_to(dx_, RIGHT))\n",
    "        a_ = Tex(r\"$a=0$ \").scale(0.7).next_to(text3, DOWN).shift(2*RIGHT)\n",
    "        dg = always_redraw(lambda: ax_.plot(lambda x: np.where((x >= 0 - dx.get_value()/2) & (x < 0 + dx.get_value()/2), 1, 0), x_range=[-1, 1], use_smoothing=False))\n",
    "        self.play(Write(dx_), Write(a_), Write(dx__))\n",
    "        self.wait(1)\n",
    "        self.play(Create(dg))\n",
    "        self.wait(1)\n",
    "        self.play(dx.animate.set_value(0.1), run_time=10)\n",
    "        self.wait(1)\n",
    "        self.play(FadeOut(ax_, ax_labels_, dx_, dx__, a_, dg))\n",
    "        self.wait(1)\n",
    "        # Final source function\n",
    "        text4 = Tex(r\"$s(x,t)=-8 (t - t_0) \\cdot f_0 \\cdot e^{-1 (4f_0)^2 (t - t_0)^2} \\cdot \\frac{1}{dx}$\").scale(0.6).next_to(text3, DOWN).shift(DOWN)\n",
    "        self.play(Write(text4))\n",
    "        self.wait(1)\n",
    "        circle = Circle(radius=0.2, color=GREEN).move_to(dots[99])\n",
    "        self.play(Create(circle))\n",
    "        self.wait(1)\n",
    "        text5 = Tex(r\"$s(9,t)=-8 (t - t_0) \\cdot f_0 \\cdot e^{-1 (4f_0)^2 (t - t_0)^2} \\cdot \\frac{1}{dx}$\", color=GREEN).scale(0.85).next_to(circle, DOWN).shift(2.5*RIGHT)\n",
    "        self.play(Write(text5))\n",
    "        self.wait(1)\n",
    "        self.play(\n",
    "            *[FadeOut(mob)for mob in self.mobjects if mob != eq1d]\n",
    "        )\n",
    "        self.wait(1)"
   ]
  },
  {
   "cell_type": "code",
   "execution_count": 74,
   "metadata": {},
   "outputs": [
    {
     "data": {
      "text/html": [
       "<pre style=\"white-space:pre;overflow-x:auto;line-height:normal;font-family:Menlo,'DejaVu Sans Mono',consolas,'Courier New',monospace\">Manim Community <span style=\"color: #008000; text-decoration-color: #008000\">v0.18.1</span>\n",
       "\n",
       "</pre>\n"
      ],
      "text/plain": [
       "Manim Community \u001b[32mv0.\u001b[0m\u001b[32m18.1\u001b[0m\n",
       "\n"
      ]
     },
     "metadata": {},
     "output_type": "display_data"
    },
    {
     "name": "stderr",
     "output_type": "stream",
     "text": [
      "                                                                                                                                                                        \r"
     ]
    },
    {
     "data": {
      "text/html": [
       "<video src=\"media/jupyter/FDM_taylor@2024-06-13@18-13-43.mp4\" controls autoplay loop style=\"max-width: 60%;\"  >\n",
       "      Your browser does not support the <code>video</code> element.\n",
       "    </video>"
      ],
      "text/plain": [
       "<IPython.core.display.Video object>"
      ]
     },
     "metadata": {},
     "output_type": "display_data"
    }
   ],
   "source": [
    "%%manim -qk -v WARNING FDM_taylor\n",
    "\n",
    "class FDM_taylor(Scene):\n",
    "    def construct(self):\n",
    "        # Opening\n",
    "        eq1d = MathTex(r\"\\frac{\\partial^2 u(x,t)}{\\partial t^2}\",r\"=\", r\"c^2\", r\"\\frac{\\partial^2 u(x,t)}{\\partial x^2}\", r\"+\", r\"s(x,t)\").scale(1).to_edge(UP)\n",
    "        eq1d[-1].scale(1.25)\n",
    "        self.add(eq1d)\n",
    "        # Highlighting src\n",
    "        self.play(ScaleInPlace(eq1d[-1], 1/1.25))\n",
    "        self.wait(1)\n",
    "        # Highlighting 2nd derivative\n",
    "        self.play(ScaleInPlace(eq1d[0], 1.25), ScaleInPlace(eq1d[3], 1.25))\n",
    "        self.wait(1)\n",
    "        # Title\n",
    "        title = Title(\"Taylor Series\")\n",
    "        self.play(ReplacementTransform(eq1d, title))\n",
    "        self.wait(1)\n",
    "        # Taylor series\n",
    "        f = Tex(r\"$f(x)=\\sin(x) + e^x$\").next_to(title, DOWN).shift(0.25*DOWN).to_edge(LEFT)\n",
    "        self.play(Write(f))\n",
    "        self.wait(1)\n",
    "        func_f = lambda x: np.sin(x) + np.exp(x)\n",
    "        f_1_exp = Tex(r\"$f(1)=$\")\n",
    "        f_1_val = Tex(str(func_f(1))).next_to(f_1_exp, RIGHT)\n",
    "        f_1 = VGroup(f_1_exp, f_1_val).next_to(f, RIGHT).to_edge(RIGHT)\n",
    "        self.play(Write(f_1))\n",
    "        self.wait(1)\n",
    "        f_taylor = Tex(r\"$f(1+dx)=f(1)$\",r\"$+f'(1) \\frac{dx}{1!}$\",r\"$+f''(1) \\frac{dx^2}{2!}$\",r\"$+f'''(1) \\frac{dx^3}{3!}$\",r\"$+f''''(1) \\frac{dx^4}{4!}$\",r\"$+f'''''(1) \\frac{dx^5}{5!}$\",r\"$+\\cdots$\").scale(0.75).next_to(VGroup(f_1, f), DOWN)\n",
    "        self.play(Write(f_taylor))\n",
    "        self.wait(1)\n",
    "        func_f_derivs = [lambda x: np.cos(x) + np.exp(x), \n",
    "                        lambda x: -1*np.sin(x) + np.exp(x),\n",
    "                        lambda x: -1*np.cos(x) + np.exp(x),\n",
    "                        lambda x: np.sin(x) + np.exp(x),\n",
    "                        lambda x: np.cos(x) + np.exp(x)]\n",
    "        def func_f_1dx(dx, n):\n",
    "            out = func_f(1)\n",
    "            for i in range(1, n+1):\n",
    "                out += func_f_derivs[i-1](1)*(dx**i)/math.factorial(i)\n",
    "            return out\n",
    "        \n",
    "        dx_ = ValueTracker(1)\n",
    "        dx_exp = Tex(r\"$dx=$\")\n",
    "        dx_val = always_redraw(lambda: Tex(str(dx_.get_value())).next_to(dx_exp, RIGHT)) \n",
    "        dx = VGroup(dx_exp, dx_val).next_to(f_taylor, DOWN).shift(LEFT)\n",
    "        self.play(Write(dx))\n",
    "        self.wait(1)\n",
    "\n",
    "        f_1dx_exp_ = Tex(\"True Value: \", r\"$f(1+dx)=$\")\n",
    "        f_1dx_val_ = always_redraw(lambda: Tex(str(func_f(1+dx_.get_value()))).next_to(f_1dx_exp_, RIGHT))\n",
    "        f_1dx_ = VGroup(f_1dx_exp_, f_1dx_val_).next_to(dx, DOWN).shift(DOWN)\n",
    "        f_1dx_exp_.color = YELLOW\n",
    "        self.play(Write(f_1dx_))\n",
    "        self.wait(1)\n",
    "        \n",
    "        n = ValueTracker(1)\n",
    "        f_1dx_exp = Tex(\"Taylor Series Approximation: \", r\"$f(1+dx)=$\")\n",
    "        f_1dx_val = always_redraw(lambda: Tex(str(round(func_f_1dx(dx_.get_value(), int(n.get_value())), 15))).next_to(f_1dx_exp, RIGHT))\n",
    "        f_1dx = VGroup(f_1dx_exp, f_1dx_val).next_to(f_1dx_, DOWN).to_edge(LEFT)\n",
    "        f_1dx_exp.color = RED_A\n",
    "\n",
    "        diff_exp = Tex(\"Difference b/w True Value and Approximation: \").scale(0.85)\n",
    "        diff_val = always_redraw(lambda: Tex(str(round(func_f(1+dx_.get_value()) - func_f_1dx(dx_.get_value(), int(n.get_value())), 15))).next_to(diff_exp, RIGHT))\n",
    "        diff = VGroup(diff_exp, diff_val).next_to(f_1dx, DOWN).to_edge(LEFT)\n",
    "\n",
    "        self.play(Write(f_1dx), f_taylor[2:].animate.set_opacity(0.25), Write(diff))\n",
    "        self.wait(1)\n",
    "        self.play(dx_.animate.set_value(0.5), run_time=2)\n",
    "        self.wait(1)\n",
    "        self.play(dx_.animate.set_value(0.1), run_time=2)\n",
    "        self.wait(1)\n",
    "        self.play(dx_.animate.set_value(0.05), run_time=2)\n",
    "        self.wait(1)\n",
    "        self.play(dx_.animate.set_value(0.01), run_time=2)\n",
    "        self.wait(1)\n",
    "        self.play(dx_.animate.set_value(0.005), run_time=2)\n",
    "        self.wait(1)\n",
    "        self.play(dx_.animate.set_value(0.001), run_time=2)\n",
    "        self.wait(1)\n",
    "        self.play(n.animate.set_value(2), f_taylor[2].animate.set_opacity(1))\n",
    "        self.wait(1)\n",
    "        self.play(n.animate.set_value(3), f_taylor[3].animate.set_opacity(1))\n",
    "        self.wait(1)\n",
    "        self.play(n.animate.set_value(4), f_taylor[4].animate.set_opacity(1))\n",
    "        self.wait(1)\n",
    "        self.play(n.animate.set_value(5), f_taylor[5].animate.set_opacity(1))\n",
    "        self.wait(1)\n",
    "        self.play(FadeOut(dx, f_1dx_, f_1dx, diff))\n",
    "        self.wait(1)\n",
    "\n",
    "        add = Tex(r\"$+$\").next_to(f_taylor, DOWN)\n",
    "        f_taylor_ = Tex(r\"$f(1-dx)=f(1)$\",r\"$-f'(1) \\frac{dx}{1!}$\",r\"$+f''(1) \\frac{dx^2}{2!}$\",r\"$-f'''(1) \\frac{dx^3}{3!}$\",r\"$+f''''(1) \\frac{dx^4}{4!}$\",r\"$-f'''''(1) \\frac{dx^5}{5!}$\",r\"$+\\cdots$\").scale(0.75).next_to(add, DOWN)\n",
    "        self.play(Write(f_taylor_))\n",
    "        self.wait(1)\n",
    "        self.play(Write(add))\n",
    "        self.wait(1)\n",
    "        self.play(f_taylor[1].animate.set_opacity(0.25), f_taylor_[1].animate.set_opacity(0.25), f_taylor[3].animate.set_opacity(0.25), f_taylor_[3].animate.set_opacity(0.25), f_taylor[5].animate.set_opacity(0.25), f_taylor_[5].animate.set_opacity(0.25))\n",
    "        self.wait(1)\n",
    "        f_2deriv = Tex(r\"$f(1+dx)+f(1-dx)=2f(1)$\",r\"$+2f''(1) \\frac{dx^2}{2!}$\",r\"$+2f''''(1) \\frac{dx^4}{4!}$\",r\"$+\\cdots$\").scale(1).next_to(f_taylor_, DOWN).shift(DOWN)\n",
    "        self.play(Write(f_2deriv))\n",
    "        self.wait(1)\n",
    "        f_2deriv_ = Tex(r\"$\\frac{f(1+dx)-2f(1)+f(1-dx)}{dx^2}=$\",r\"$f''(1)$\",r\"$+2f''''(1) \\frac{dx^2}{4!}$\",r\"$+\\cdots$\").scale(1).next_to(f_taylor_, DOWN).shift(DOWN)\n",
    "        self.play(TransformMatchingTex(f_2deriv, f_2deriv_))\n",
    "        self.wait(1)\n",
    "        self.play(f_2deriv_[-2:].animate.set_opacity(0.25))\n",
    "        self.wait(1)\n",
    "        f_2deriv = Tex(r\"$\\frac{f(1+dx)-2f(1)+f(1-dx)}{dx^2}=$\",r\"$f''(1)$\",r\"$+O(dx^2)$\").scale(1).next_to(f_taylor_, DOWN).shift(DOWN)\n",
    "        self.play(TransformMatchingTex(f_2deriv_, f_2deriv))\n",
    "        self.wait(1)\n",
    "        self.play(\n",
    "            *[FadeOut(mob)for mob in self.mobjects]\n",
    "        )\n",
    "        self.wait(1)"
   ]
  },
  {
   "cell_type": "markdown",
   "metadata": {},
   "source": [
    "# Solving Wave Equation"
   ]
  },
  {
   "cell_type": "code",
   "execution_count": 28,
   "metadata": {},
   "outputs": [
    {
     "data": {
      "text/html": [
       "<pre style=\"white-space:pre;overflow-x:auto;line-height:normal;font-family:Menlo,'DejaVu Sans Mono',consolas,'Courier New',monospace\">Manim Community <span style=\"color: #008000; text-decoration-color: #008000\">v0.18.1</span>\n",
       "\n",
       "</pre>\n"
      ],
      "text/plain": [
       "Manim Community \u001b[32mv0.\u001b[0m\u001b[32m18.1\u001b[0m\n",
       "\n"
      ]
     },
     "metadata": {},
     "output_type": "display_data"
    },
    {
     "name": "stderr",
     "output_type": "stream",
     "text": [
      "                                                                                                                                                                                                            \r"
     ]
    },
    {
     "data": {
      "text/html": [
       "<video src=\"media/jupyter/FDM_Solve@2024-06-13@21-53-00.mp4\" controls autoplay loop style=\"max-width: 60%;\"  >\n",
       "      Your browser does not support the <code>video</code> element.\n",
       "    </video>"
      ],
      "text/plain": [
       "<IPython.core.display.Video object>"
      ]
     },
     "metadata": {},
     "output_type": "display_data"
    }
   ],
   "source": [
    "%%manim -qk -v WARNING FDM_Solve\n",
    "\n",
    "class FDM_Solve(Scene):\n",
    "    def construct(self):\n",
    "        # Opening\n",
    "        eq1d = MathTex(r\"\\frac{\\partial^2 u(x,t)}{\\partial t^2}\",r\"=\", r\"c^2\", r\"\\frac{\\partial^2 u(x,t)}{\\partial x^2}\", r\"+\", r\"s(x,t)\").scale(1).to_edge(UP)\n",
    "        self.play(Write(eq1d))\n",
    "        self.wait(1)\n",
    "        # Derivative approxs\n",
    "        u_x = Tex(r\"$ \\frac{\\partial^2u(x,t)}{dx^2} \\approx \\frac{u(x+dx,t)-2u(x,t)+u(x-dx,t)}{dx^2}$\").scale(1)\n",
    "        u_t = Tex(r\"$ \\frac{\\partial^2u(x,t)}{dt^2} \\approx \\frac{u(x,t+dt)-2u(x,t)+f(x,t-dt)}{dt^2}$\").scale(1).next_to(u_x, DOWN)\n",
    "        self.play(Write(u_x), Write(u_t))\n",
    "        self.wait(1)\n",
    "        # Difference eq\n",
    "        eq1d_ = MathTex(r\"\\frac{u(x,t+dt)-2u(x,t)+u(x,t-dt)}{dt^2}\",r\"=\", r\"c^2\", r\"\\bigg[\\frac{u(x+dx,t)-2u(x,t)+u(x-dx,t)}{dx^2} \\bigg]\", r\"+\", r\"s(x,t)\").scale(0.65).to_edge(UP)\n",
    "        self.play(ReplacementTransform(VGroup(eq1d, u_x, u_t), eq1d_))\n",
    "        self.wait(1)\n",
    "        self.play(eq1d_[0][9:].animate.set_opacity(0.25), eq1d_[1:].animate.set_opacity(0.25))\n",
    "        self.wait(1)\n",
    "        self.play(eq1d_.animate.set_opacity(1))\n",
    "        self.wait(1)\n",
    "        eq1d = MathTex(r\"u(x,t+dt) = 2u(x,t) - u(x,t-dt) + \\frac{dt^2}{dx^2}c^2 [u(x+dx,t)-2u(x,t)+u(x-dx,t)] + s(x,t)\").scale(0.65).to_edge(UP)\n",
    "        self.play(TransformMatchingTex(eq1d_, eq1d))\n",
    "        self.wait(1)\n",
    "        # Grid\n",
    "        ax = Axes(\n",
    "            x_range=[0, 10, 1],\n",
    "            y_range=[0, 1, 0.1],\n",
    "            tips=False,\n",
    "            axis_config={\"include_numbers\": True,\n",
    "                        \"include_ticks\": True},\n",
    "        ).scale(0.75).to_edge(DOWN).shift(0.5*UP)\n",
    "        x_label = ax.get_x_axis_label(\"x\", edge=DOWN, direction=DOWN, buff=0.4).scale(0.7)\n",
    "        y_label = ax.get_y_axis_label(\"t\", edge=LEFT, direction=LEFT, buff=0.4).scale(0.7)\n",
    "        ax_labels = VGroup(x_label, y_label)\n",
    "        # Discrete points\n",
    "        dots = VGroup()\n",
    "        for i in range(11):\n",
    "            for j in range(11):\n",
    "                dots.add(Dot(ax.coords_to_point(i, j*0.1), color=RED))\n",
    "        dots[:11].color = WHITE \n",
    "        dots[11::11].color = WHITE\n",
    "        dots[-11:].color = WHITE\n",
    "        dx_arrow = DoubleArrow(start=dots[11], end=dots[22]).scale(1.5).shift(0.2*DOWN)\n",
    "        dx = Tex(r\"$dx$\").next_to(dx_arrow, DOWN)\n",
    "        dt_arrow = DoubleArrow(start=dots[-11], end=dots[-10]).scale(1.5).shift(0.2*RIGHT)\n",
    "        dt = Tex(r\"$dt$\").next_to(dt_arrow, RIGHT)\n",
    "        self.play(Create(dx_arrow), Write(dx), Create(dt_arrow), Write(dt), Create(VGroup(ax, ax_labels, dots)))\n",
    "        self.wait(1)\n",
    "\n",
    "        d1 = Circle(radius=0.1, color=GREEN).move_to(dots[13])\n",
    "        self.play(Create(d1), eq1d[0][9:].animate.set_opacity(0.25))\n",
    "        self.wait(1)\n",
    "        d2 = Circle(radius=0.1, color=WHITE).move_to(dots[12])\n",
    "        self.play(Create(d2), eq1d[0][9:17].animate.set_opacity(1))\n",
    "        self.wait(1)\n",
    "        self.play(dots[12].animate.set_color(WHITE))\n",
    "        self.wait(1)\n",
    "        d3 = Circle(radius=0.1, color=WHITE).move_to(dots[11])\n",
    "        self.play(Create(d3), eq1d[0][17:27].animate.set_opacity(1))\n",
    "        self.wait(1)\n",
    "        self.play(eq1d[0][27:37].animate.set_opacity(1))\n",
    "        self.wait(1)\n",
    "        d4 = Circle(radius=0.1, color=WHITE).move_to(dots[23])\n",
    "        self.play(Create(d4), eq1d[0][27:47].animate.set_opacity(1))\n",
    "        self.wait(1)\n",
    "        self.play(dots[23].animate.set_color(WHITE))\n",
    "        self.wait(1)\n",
    "        self.play(eq1d[0][47:55].animate.set_opacity(1))\n",
    "        self.wait(1)\n",
    "        d5 = Circle(radius=0.1, color=WHITE).move_to(dots[1])\n",
    "        self.play(Create(d5), eq1d[0][55:66].animate.set_opacity(1))\n",
    "        self.wait(1)\n",
    "        self.play(eq1d[0][66:].animate.set_opacity(1))\n",
    "        self.wait(1)\n",
    "        self.play(dots[13].animate.set_color(WHITE))\n",
    "        self.wait(1)\n",
    "\n",
    "        for i in range(2, 11):\n",
    "            for j in range(1, 10):\n",
    "                idx = j*11 + i\n",
    "                self.play(d1.animate.move_to(dots[idx]), \n",
    "                        d2.animate.move_to(dots[idx-1]), \n",
    "                        d3.animate.move_to(dots[idx-2]),\n",
    "                        d4.animate.move_to(dots[idx+10]),\n",
    "                        d5.animate.move_to(dots[idx-12]),\n",
    "                        dots[idx+10].animate.set_color(WHITE))\n",
    "                self.play(dots[idx].animate.set_color(WHITE))\n",
    "        self.wait(1)\n",
    "        self.play(\n",
    "            *[FadeOut(mob)for mob in self.mobjects]\n",
    "        )\n",
    "        self.wait(1)"
   ]
  },
  {
   "cell_type": "code",
   "execution_count": 33,
   "metadata": {},
   "outputs": [
    {
     "data": {
      "text/html": [
       "<pre style=\"white-space:pre;overflow-x:auto;line-height:normal;font-family:Menlo,'DejaVu Sans Mono',consolas,'Courier New',monospace\">Manim Community <span style=\"color: #008000; text-decoration-color: #008000\">v0.18.1</span>\n",
       "\n",
       "</pre>\n"
      ],
      "text/plain": [
       "Manim Community \u001b[32mv0.\u001b[0m\u001b[32m18.1\u001b[0m\n",
       "\n"
      ]
     },
     "metadata": {},
     "output_type": "display_data"
    },
    {
     "name": "stderr",
     "output_type": "stream",
     "text": [
      "                                                                                                                                                                                                              \r"
     ]
    },
    {
     "data": {
      "text/html": [
       "<video src=\"media/jupyter/FDM_Code@2024-06-14@17-41-46.mp4\" controls autoplay loop style=\"max-width: 60%;\"  >\n",
       "      Your browser does not support the <code>video</code> element.\n",
       "    </video>"
      ],
      "text/plain": [
       "<IPython.core.display.Video object>"
      ]
     },
     "metadata": {},
     "output_type": "display_data"
    }
   ],
   "source": [
    "%%manim -qk -v WARNING FDM_Code\n",
    "\n",
    "class FDM_Code(Scene):\n",
    "    def construct(self):\n",
    "        # Explicit scheme\n",
    "        eq1d = MathTex(r\"u(x,t+dt) = 2u(x,t) - u(x,t-dt) + \\frac{dt^2}{dx^2}c^2 [u(x+dx,t)-2u(x,t)+u(x-dx,t)] + s(x,t)\").scale(0.65).to_edge(UP)\n",
    "        fdm_code = Code(file_name=\"1d_fdm.jl\", language=\"Julia\", font=\"Monospace\", insert_line_no=False,\n",
    "                            style=\"dracula\", line_spacing=1).scale(0.3).next_to(eq1d, DOWN).to_edge(RIGHT)\n",
    "        fdm_code.code = remove_invisible_chars(fdm_code.code)\n",
    "        self.play(Create(fdm_code[0]))\n",
    "        self.play(Write(eq1d))\n",
    "        self.wait(1)\n",
    "        self.wait(1)\n",
    "        # Grid\n",
    "        ax = Axes(\n",
    "            x_range=[0, 10, 1],\n",
    "            y_range=[0, 1, 0.1],\n",
    "            tips=False,\n",
    "            axis_config={\"include_numbers\": True,\n",
    "                        \"include_ticks\": True},\n",
    "        ).scale(0.55).to_edge(LEFT)\n",
    "        x_label = ax.get_x_axis_label(\"x\", edge=DOWN, direction=DOWN, buff=0.4).scale(0.7)\n",
    "        y_label = ax.get_y_axis_label(\"t\", edge=LEFT, direction=LEFT, buff=0.4).scale(0.7)\n",
    "        ax_labels = VGroup(x_label, y_label)\n",
    "        # Discrete points\n",
    "        dots = VGroup()\n",
    "        for i in range(11):\n",
    "            for j in range(11):\n",
    "                dots.add(Dot(ax.coords_to_point(i, j*0.1), color=RED))\n",
    "        dx_arrow = DoubleArrow(start=dots[11], end=dots[22]).scale(1.5).shift(0.2*DOWN)\n",
    "        dx = Tex(r\"$dx$\").scale(0.7).next_to(dx_arrow, DOWN)\n",
    "        dt_arrow = DoubleArrow(start=dots[-11], end=dots[-10]).scale(1.5).shift(0.2*RIGHT)\n",
    "        dt = Tex(r\"$dt$\").scale(0.7).next_to(dt_arrow, RIGHT)\n",
    "        self.play(Create(dx_arrow), Write(dx), Create(dt_arrow), Write(dt), Create(VGroup(ax, ax_labels, dots)))\n",
    "        self.wait(1)\n",
    "        # Explaining code\n",
    "        self.play(Write(fdm_code.code[0:2]), dots[0::11].animate.set_color(WHITE))\n",
    "        self.wait(1)\n",
    "        self.play(Write(fdm_code.code[2:4]), dots[1::11].animate.set_color(WHITE))\n",
    "        self.wait(1)\n",
    "        self.play(Write(fdm_code.code[4:7]))\n",
    "        self.wait(1)\n",
    "        d1 = Circle(radius=0.1, color=GREEN).move_to(dots[13])\n",
    "        self.play(Create(d1), eq1d[0][9:].animate.set_opacity(0.25), Write(fdm_code.code[7:11]))\n",
    "        self.wait(1)\n",
    "        d2 = Circle(radius=0.1, color=WHITE).move_to(dots[12])\n",
    "        d4 = Circle(radius=0.1, color=WHITE).move_to(dots[23])\n",
    "        d5 = Circle(radius=0.1, color=WHITE).move_to(dots[1])\n",
    "        self.play(Create(d5), Create(d4), Create(d2), eq1d[0][37:66].animate.set_opacity(1), Write(fdm_code.code[11:13]))\n",
    "        self.wait(1)\n",
    "        self.play(eq1d[0][-6:].animate.set_opacity(1), Write(fdm_code.code[13:15]))\n",
    "        self.wait(1)\n",
    "        d3 = Circle(radius=0.1, color=WHITE).move_to(dots[11])\n",
    "        self.play(eq1d[0].animate.set_opacity(1), Write(fdm_code.code[15:20]), Create(d3))\n",
    "        self.wait(1)\n",
    "        for i in range(2, 3):\n",
    "            for j in range(1, 10):\n",
    "                idx = j*11 + i\n",
    "                self.play(d1.animate.move_to(dots[idx]), \n",
    "                        d2.animate.move_to(dots[idx-1]), \n",
    "                        d3.animate.move_to(dots[idx-2]),\n",
    "                        d4.animate.move_to(dots[idx+10]),\n",
    "                        d5.animate.move_to(dots[idx-12]),\n",
    "                        dots[idx+10].animate.set_color(WHITE))\n",
    "                self.play(dots[idx].animate.set_color(WHITE))\n",
    "        self.wait(1)\n",
    "        self.play(Write(fdm_code.code[20:24]), dots[2].animate.set_color(WHITE), dots[-9].animate.set_color(WHITE))\n",
    "        self.wait(1)\n",
    "        for i in range(3, 11):\n",
    "            for j in range(1, 10):\n",
    "                idx = j*11 + i\n",
    "                self.play(d1.animate.move_to(dots[idx]), \n",
    "                        d2.animate.move_to(dots[idx-1]), \n",
    "                        d3.animate.move_to(dots[idx-2]),\n",
    "                        d4.animate.move_to(dots[idx+10]),\n",
    "                        d5.animate.move_to(dots[idx-12]),\n",
    "                        dots[idx+10].animate.set_color(WHITE))\n",
    "                self.play(dots[idx].animate.set_color(WHITE))\n",
    "            self.play(dots[i].animate.set_color(WHITE), dots[-11+i].animate.set_color(WHITE))\n",
    "        self.wait(1)\n",
    "        self.play(\n",
    "            *[FadeOut(mob)for mob in self.mobjects]\n",
    "        )\n",
    "        self.wait(1)"
   ]
  },
  {
   "cell_type": "markdown",
   "metadata": {},
   "source": [
    "# Accuracy and Stability"
   ]
  },
  {
   "cell_type": "code",
   "execution_count": 143,
   "metadata": {},
   "outputs": [
    {
     "data": {
      "text/html": [
       "<pre style=\"white-space:pre;overflow-x:auto;line-height:normal;font-family:Menlo,'DejaVu Sans Mono',consolas,'Courier New',monospace\">Manim Community <span style=\"color: #008000; text-decoration-color: #008000\">v0.18.1</span>\n",
       "\n",
       "</pre>\n"
      ],
      "text/plain": [
       "Manim Community \u001b[32mv0.\u001b[0m\u001b[32m18.1\u001b[0m\n",
       "\n"
      ]
     },
     "metadata": {},
     "output_type": "display_data"
    },
    {
     "name": "stderr",
     "output_type": "stream",
     "text": [
      "                                                                                                                                                                                                                          \r"
     ]
    },
    {
     "data": {
      "text/html": [
       "<video src=\"media/jupyter/Accuracy_Stability@2024-06-15@19-27-47.mp4\" controls autoplay loop style=\"max-width: 60%;\"  >\n",
       "      Your browser does not support the <code>video</code> element.\n",
       "    </video>"
      ],
      "text/plain": [
       "<IPython.core.display.Video object>"
      ]
     },
     "metadata": {},
     "output_type": "display_data"
    }
   ],
   "source": [
    "%%manim -qk -v WARNING Accuracy_Stability\n",
    "\n",
    "class Accuracy_Stability(Scene):\n",
    "    def construct(self):\n",
    "        # Grid\n",
    "        ax = Axes(\n",
    "            x_range=[0, 10, 1],\n",
    "            y_range=[0, 2, 0.25],\n",
    "            tips=False,\n",
    "            axis_config={\"include_numbers\": True,\n",
    "                        \"include_ticks\": True},\n",
    "        ).scale(0.4).to_edge(DOWN).to_edge(LEFT).shift(0.35*UP)\n",
    "        x_label = ax.get_x_axis_label(\"x\", edge=DOWN, direction=DOWN, buff=0.4).scale(0.7)\n",
    "        y_label = ax.get_y_axis_label(\"t\", edge=LEFT, direction=LEFT, buff=0.4).scale(0.7)\n",
    "        ax_labels = VGroup(x_label, y_label)\n",
    "        # Discrete points\n",
    "        dots = VGroup()\n",
    "        for i in range(11):\n",
    "            for j in range(9):\n",
    "                dots.add(Dot(ax.coords_to_point(i, j*0.25), color=RED))\n",
    "        dx_arrow = DoubleArrow(start=dots[9], end=dots[18]).scale(1.5).shift(0.25*DOWN)\n",
    "        dx = Tex(r\"$dx=1$\").scale(0.75).next_to(dx_arrow, DOWN)\n",
    "        dt_arrow = DoubleArrow(start=dots[-9], end=dots[-8]).scale(1.5).shift(0.2*RIGHT)\n",
    "        dt = Tex(r\"$dt=0.001$\").scale(0.75).next_to(dt_arrow, RIGHT)\n",
    "        self.play(Create(VGroup(ax, ax_labels)))\n",
    "        self.play(Create(dx_arrow), Write(dx), Create(dots[::9]))\n",
    "        self.wait(1)\n",
    "        self.play(Create(dt_arrow), Write(dt), Create(VGroup(dots[1::9], \n",
    "                                                            dots[2::9],\n",
    "                                                            dots[3::9],\n",
    "                                                            dots[4::9],\n",
    "                                                            dots[5::9],\n",
    "                                                            dots[6::9],\n",
    "                                                            dots[7::9],\n",
    "                                                            dots[8::9])))\n",
    "        self.wait(1)\n",
    "        # Source function\n",
    "        src = Tex(r\"$s(x,t)=-8 (t - t_0) \\cdot f_0 \\cdot e^{-1 (4f_0)^2 (t - t_0)^2} \\cdot \\frac{1}{dx}$\").scale(0.6).next_to(ax, UP).shift(2*UP)\n",
    "        self.play(Write(src))\n",
    "        self.wait(1)\n",
    "        f0 = Tex(r\"$f_0=5 \\text{ Hz}$\").scale(0.75).next_to(src, DOWN).to_edge(LEFT).shift(0.5*RIGHT)\n",
    "        t0 = Tex(r\"$t_0=0.1 \\text{ s}$\").scale(0.75).next_to(f0, RIGHT).shift(RIGHT)\n",
    "        self.play(Write(f0))\n",
    "        self.play(Write(t0))\n",
    "        self.wait(3)\n",
    "        self.play(\n",
    "            *[FadeOut(mob)for mob in self.mobjects]\n",
    "        )\n",
    "        self.wait(1)\n",
    "        \n",
    "        # Accuracy\n",
    "        title = Text(\"Sources of inaccuracy\").to_edge(UP).to_edge(LEFT)\n",
    "        title = VGroup(Underline(title), title)\n",
    "        self.play(Write(title))\n",
    "        self.wait(1)\n",
    "        f_2deriv = Tex(r\"$\\frac{u(x+dx,t)-2u(x,t)+u(x-dx,t)}{dx^2}=$\",r\"$u''(x,t)$\",r\"$+2u''''(x,t) \\frac{dx^2}{4!}$\",r\"$+\\cdots$\").scale(0.55).next_to(title, DOWN).shift(0.5*DOWN)\n",
    "        self.play(Write(f_2deriv))\n",
    "        self.wait(1)\n",
    "        points = BulletedList(r\"Keep $dx$ really small.\",\n",
    "                                r\"Make the higher order derivatives \\\\ close to zeros with even a slightly \\\\ larger value of $dx$?\").scale(0.75).next_to(f_2deriv, DOWN).shift(DOWN)\n",
    "        self.play(Write(points[0]))\n",
    "        self.wait(1)\n",
    "        self.play(f_2deriv[2:].animate.set_opacity(0.25))\n",
    "        self.wait(5)\n",
    "        self.play(f_2deriv[2:].animate.set_opacity(1), Write(points[1]))\n",
    "        self.wait(1)\n",
    "        self.play(FadeOut(points, title), f_2deriv.animate.scale(2).move_to(ORIGIN).to_edge(UP))\n",
    "        self.wait(1)\n",
    "        # 5 point stencil\n",
    "        ax = Axes(\n",
    "            x_range=[0, 6, 1],\n",
    "            y_range=None,\n",
    "            tips=False,\n",
    "            axis_config={\"include_numbers\": False,\n",
    "                        \"include_ticks\": True},\n",
    "        ).scale(0.75).to_edge(DOWN).shift(0.25*UP)\n",
    "        x_label = ax.get_x_axis_label(\"x\", edge=RIGHT, direction=RIGHT, buff=0.4).scale(0.7)\n",
    "        # Discrete points\n",
    "        dots = VGroup()\n",
    "        for i in range(7):\n",
    "            dots.add(Dot(ax.coords_to_point(i, 0), color=RED))\n",
    "        self.play(Create(VGroup(ax, x_label)))\n",
    "        self.play(Create(dots))\n",
    "        self.wait(1)\n",
    "        d1 = Circle(radius=0.1, color=BLUE).move_to(dots[3])\n",
    "        d1_ = Tex(r\"$u(x,t)$\").scale(0.75).next_to(d1, UP)\n",
    "        self.play(Create(d1), Write(d1_))\n",
    "        d2 = Circle(radius=0.1, color=BLUE).move_to(dots[2])\n",
    "        d2_ = Tex(r\"$u(x-dx,t)$\").scale(0.75).next_to(d2, DOWN)\n",
    "        self.play(Create(d2), Write(d2_))\n",
    "        d3 = Circle(radius=0.1, color=BLUE).move_to(dots[4])\n",
    "        d3_ = Tex(r\"$u(x+dx,t)$\").scale(0.75).next_to(d3, DOWN)\n",
    "        self.play(Create(d3), Write(d3_))\n",
    "        self.wait(1)\n",
    "        f_2deriv_ = Tex(r\"$\\frac{-u(x+2dx,t) + 16u(x+dx, t) - 30u(x,t) + 16u(x-dx, t) - u(x-2dx, t)}{12dx^2} =$\", r\"$u''(x,t)$\", r\"$+ \\frac{\\zeta}{4!} u''''(x,t) dx^4 +$\", r\"$\\cdots$\").scale(0.75).to_edge(UP)\n",
    "        d4 = Circle(radius=0.1, color=BLUE).move_to(dots[1])\n",
    "        d4_ = Tex(r\"$u(x-2dx,t)$\").scale(0.75).next_to(d4, UP)\n",
    "        d5 = Circle(radius=0.1, color=BLUE).move_to(dots[5])\n",
    "        d5_ = Tex(r\"$u(x+2dx,t)$\").scale(0.75).next_to(d5, UP)\n",
    "        self.play(FadeOut(f_2deriv), Create(d4), Create(d5), Write(d4_), Write(d5_))\n",
    "        self.wait(1)\n",
    "        self.play(Write(f_2deriv_))\n",
    "        self.wait(1)\n",
    "        self.play(f_2deriv_[2:].animate.set_opacity(0.25))\n",
    "        self.wait(1)\n",
    "        self.play(\n",
    "            *[FadeOut(mob)for mob in self.mobjects]\n",
    "        )\n",
    "        self.wait(1)\n",
    "        # 3 vs 5 point\n",
    "        title1 = Text(\"3-point stencil\").to_edge(UP).shift(3.75*LEFT)\n",
    "        title1 = VGroup(Underline(title1), title1)\n",
    "        title2 = Text(\"5-point stencil\").to_edge(UP).shift(3.15*RIGHT)\n",
    "        title2 = VGroup(Underline(title2), title2)\n",
    "        self.play(Write(title1), Write(title2))\n",
    "        fdm_code = Code(file_name=\"1d_fdm.jl\", language=\"Julia\", font=\"Monospace\", insert_line_no=False,\n",
    "                            style=\"dracula\", line_spacing=1).scale(0.35).next_to(title1, DOWN).to_edge(LEFT)\n",
    "        fdm_code.code = remove_invisible_chars(fdm_code.code)\n",
    "        fdm5_code = Code(file_name=\"1d_fdm_5pt.jl\", language=\"Julia\", font=\"Monospace\", insert_line_no=False,\n",
    "                            style=\"dracula\", line_spacing=1).scale(0.3).next_to(title2, DOWN).to_edge(RIGHT)\n",
    "        fdm5_code.code = remove_invisible_chars(fdm5_code.code)\n",
    "        self.play(Create(fdm_code), Create(fdm5_code))\n",
    "        self.wait(1)\n",
    "        self.play(VGroup(fdm_code.code[:9], fdm_code.code[11:], fdm5_code.code[:9], fdm5_code.code[11:]).animate.set_opacity(0.25))\n",
    "        self.wait(1)\n",
    "        self.play(VGroup(fdm_code.code, fdm5_code.code).animate.set_opacity(1), VGroup(fdm_code.code[:11], fdm_code.code[13:], fdm5_code.code[:11], fdm5_code.code[13:]).animate.set_opacity(0.25))\n",
    "        self.wait(1)\n",
    "        self.play(VGroup(fdm_code.code, fdm5_code.code).animate.set_opacity(1), VGroup(fdm_code.code[:21], fdm_code.code[24:], fdm5_code.code[:21], fdm5_code.code[24:]).animate.set_opacity(0.25))\n",
    "        self.wait(1)\n",
    "        self.play(\n",
    "            *[FadeOut(mob)for mob in self.mobjects]\n",
    "        )\n",
    "        self.wait(1)\n",
    "\n",
    "        # Stabity\n",
    "        text = Tex(r\"Stability\" r\"$\\ne$\", r\"Accuracy\").shift(3.25*LEFT)\n",
    "        self.play(Write(text))\n",
    "        self.wait(1)\n",
    "        title = Text(\"Von Neumann Analysis\").to_edge(UP)\n",
    "        title = VGroup(Underline(title), title)\n",
    "        self.play(ReplacementTransform(text, title))\n",
    "        self.wait(1)\n",
    "        title1 = Text(\"CFL Condition\").to_edge(UP)\n",
    "        title1 = VGroup(Underline(title1), title1)\n",
    "        self.play(ReplacementTransform(title, title1))\n",
    "        self.wait(1)\n",
    "        fn = Tex(r\"$c$\", r\"$\\frac{dt}{dx}$\", r\"$\\le$\", r\"$\\epsilon$\").scale(2).shift(1.5*UP)\n",
    "        points = BulletedList(r\"$\\epsilon$ depends on the dimensionality of the \\\\ problem and the numerical scheme.\",\n",
    "                            r\"For 1D Wave Equation, $\\epsilon=1$\").next_to(fn, DOWN).shift(DOWN)\n",
    "        self.play(Write(fn[1]))\n",
    "        self.wait(1)\n",
    "        self.play(Write(fn[0]))\n",
    "        self.wait(1)\n",
    "        self.play(Write(fn[2:]))\n",
    "        self.wait(1)\n",
    "        self.play(Write(points))\n",
    "        self.wait(1)\n",
    "        fn_ = Tex(r\"$c$\", r\"$\\le$\", r\"$\\frac{dx}{dt}$\").scale(2).shift(3.2*LEFT+UP)\n",
    "        self.play(ReplacementTransform(VGroup(fn, points), fn_), title1.animate.shift(3*LEFT))\n",
    "        self.wait(1)\n",
    "        box = SurroundingRectangle(fn_[2])\n",
    "        text = Tex(\"Grid Velocity\").scale(0.75).next_to(box, UP)\n",
    "        self.play(Write(text), Create(box))\n",
    "        self.wait(1)\n",
    "        text2 = Tex(r\"Actual Velocity should not \\\\ exceed Grid Velocity\").scale(1).next_to(fn_, DOWN).shift(DOWN)\n",
    "        self.play(Write(text2))\n",
    "        self.wait(5)\n",
    "        self.play(\n",
    "            *[FadeOut(mob)for mob in self.mobjects]\n",
    "        )\n",
    "        self.wait(1)"
   ]
  },
  {
   "cell_type": "markdown",
   "metadata": {},
   "source": [
    "# Boundary Conditions"
   ]
  },
  {
   "cell_type": "code",
   "execution_count": 39,
   "metadata": {},
   "outputs": [
    {
     "data": {
      "text/html": [
       "<pre style=\"white-space:pre;overflow-x:auto;line-height:normal;font-family:Menlo,'DejaVu Sans Mono',consolas,'Courier New',monospace\">Manim Community <span style=\"color: #008000; text-decoration-color: #008000\">v0.18.1</span>\n",
       "\n",
       "</pre>\n"
      ],
      "text/plain": [
       "Manim Community \u001b[32mv0.\u001b[0m\u001b[32m18.1\u001b[0m\n",
       "\n"
      ]
     },
     "metadata": {},
     "output_type": "display_data"
    },
    {
     "name": "stderr",
     "output_type": "stream",
     "text": [
      "                                                                                                                                                                              \r"
     ]
    },
    {
     "data": {
      "text/html": [
       "<video src=\"media/jupyter/Boundaries@2024-06-16@14-35-51.mp4\" controls autoplay loop style=\"max-width: 60%;\"  >\n",
       "      Your browser does not support the <code>video</code> element.\n",
       "    </video>"
      ],
      "text/plain": [
       "<IPython.core.display.Video object>"
      ]
     },
     "metadata": {},
     "output_type": "display_data"
    }
   ],
   "source": [
    "%%manim -qk -v WARNING Boundaries\n",
    "\n",
    "class Boundaries(Scene):\n",
    "    def construct(self):\n",
    "        # Diff boundaries\n",
    "        text1 = Tex(r\"Zero Boundaries\").scale(0.75).shift(0.25*DOWN).shift(4.75*LEFT)\n",
    "        self.play(Write(text1))\n",
    "        self.wait(2)\n",
    "        code1 = Code(code=\"\"\"\n",
    "                            p_next[1] = 0\n",
    "                            p_next[nx] = 0\n",
    "                            \"\"\", language=\"Julia\", font=\"Monospace\", insert_line_no=False,\n",
    "                            style=\"dracula\", line_spacing=1).scale(1).next_to(text1, DOWN)\n",
    "        code1.code = remove_invisible_chars(code1.code)\n",
    "        self.play(Write(code1))\n",
    "        self.wait(2)\n",
    "\n",
    "        text2 = Tex(r\"Free Boundaries\").scale(0.75).shift(0.25*DOWN)\n",
    "        self.play(Write(text2))\n",
    "        self.wait(2)\n",
    "        f2 = Tex(r\"$\\frac{\\partial u(x,t)}{\\partial x} \\bigg|_{x=1}=0$\", r\"\\\\\", r\"$\\frac{\\partial u(x,t)}{\\partial x} \\bigg|_{x=nx}=0$\").scale(0.75).next_to(text2, DOWN)\n",
    "        self.play(Write(f2))\n",
    "        self.wait(2)\n",
    "        f2_ = Tex(r\"$\\frac{u(x=dx,t) - u(x=0,t)}{dx}=0$\", r\"\\\\\", r\"$\\frac{u(x=100,t) - u(x=100-dx,t)}{dx}=0$\").scale(0.75).next_to(text2, DOWN)\n",
    "        self.play(ReplacementTransform(f2, f2_))\n",
    "        self.wait(2)\n",
    "        code2 = Code(code=\"\"\"\n",
    "                            p_next[1] = p_next[2]\n",
    "                            p_next[nx] = p_next[nx-1]\n",
    "                            \"\"\", language=\"Julia\", font=\"Monospace\", insert_line_no=False,\n",
    "                            style=\"dracula\", line_spacing=1).scale(0.8).next_to(text2, DOWN)\n",
    "        code2.code = remove_invisible_chars(code2.code)\n",
    "        self.play(ReplacementTransform(f2_, code2))\n",
    "        self.wait(2)\n",
    "\n",
    "        text3 = Tex(r\"Absorbing Boundaries\").scale(0.75).shift(0.25*DOWN).shift(4.5*RIGHT)\n",
    "        self.play(Write(text3))\n",
    "        self.wait(2)\n",
    "        self.play(FadeOut(text1, code1, text2, code2))\n",
    "        \n",
    "        # ABC\n",
    "        title = Title(\"Absorbing Boundary Condition\")\n",
    "        self.play(ReplacementTransform(text3, title))\n",
    "        self.wait(5)\n",
    "        code3 = Code(code=\"\"\"\n",
    "                            p_next[1] = p[2] + (c*dt-dx)/(c*dt+dx) * (p_next[2]-p[1])\n",
    "                            p_next[nx] = p[nx-1] + (c*dt-dx)/(c*dt+dx) * (p_next[nx-1]-p[nx])\n",
    "                            \"\"\", language=\"Julia\", font=\"Monospace\", insert_line_no=False,\n",
    "                            style=\"dracula\", line_spacing=1).scale(0.5).to_edge(LEFT)\n",
    "        code3.code = remove_invisible_chars(code3.code)\n",
    "        self.play(Write(code3))\n",
    "        self.wait(2)\n",
    "        fdm_code = Code(file_name=\"1d_fdm.jl\", language=\"Julia\", font=\"Monospace\", insert_line_no=False,\n",
    "                            style=\"dracula\", line_spacing=1).scale(0.3).to_edge(LEFT)\n",
    "        fdm_code.code = remove_invisible_chars(fdm_code.code)\n",
    "        self.play(ReplacementTransform(code3, fdm_code), FadeOut(title))\n",
    "        self.wait(5)\n",
    "        self.play(\n",
    "            *[FadeOut(mob)for mob in self.mobjects]\n",
    "        )\n",
    "        self.wait(1)"
   ]
  },
  {
   "cell_type": "markdown",
   "metadata": {},
   "source": [
    "# 2D Wave Equation"
   ]
  },
  {
   "cell_type": "code",
   "execution_count": 75,
   "metadata": {},
   "outputs": [
    {
     "data": {
      "text/html": [
       "<pre style=\"white-space:pre;overflow-x:auto;line-height:normal;font-family:Menlo,'DejaVu Sans Mono',consolas,'Courier New',monospace\">Manim Community <span style=\"color: #008000; text-decoration-color: #008000\">v0.18.1</span>\n",
       "\n",
       "</pre>\n"
      ],
      "text/plain": [
       "Manim Community \u001b[32mv0.\u001b[0m\u001b[32m18.1\u001b[0m\n",
       "\n"
      ]
     },
     "metadata": {},
     "output_type": "display_data"
    },
    {
     "name": "stderr",
     "output_type": "stream",
     "text": [
      "                                                                                                                                                                                                                                                                           \r"
     ]
    },
    {
     "data": {
      "text/html": [
       "<video src=\"media/jupyter/Wave2D@2024-06-16@18-59-37.mp4\" controls autoplay loop style=\"max-width: 60%;\"  >\n",
       "      Your browser does not support the <code>video</code> element.\n",
       "    </video>"
      ],
      "text/plain": [
       "<IPython.core.display.Video object>"
      ]
     },
     "metadata": {},
     "output_type": "display_data"
    }
   ],
   "source": [
    "%%manim -qk -v WARNING Wave2D\n",
    "\n",
    "class Wave2D(Scene):\n",
    "    def construct(self):\n",
    "        # Titles\n",
    "        title1 = Text(\"1D Wave Equation\").to_edge(UP).to_edge(LEFT)\n",
    "        title1 = VGroup(Underline(title1), title1)\n",
    "        title2 = Text(\"2D Wave Equation\").to_edge(UP).to_edge(RIGHT)\n",
    "        title2 = VGroup(Underline(title2), title2)\n",
    "        self.play(Write(title1), Write(title2))\n",
    "        self.wait(1)\n",
    "\n",
    "        # PDEs\n",
    "        pde1 = MathTex(r\"\\frac{\\partial^2 u(x,t)}{\\partial t^2}\",r\"=\", r\"c^2\", r\"\\frac{\\partial^2 u(x,t)}{\\partial x^2}\", r\"+\", r\"s(x,t)\").scale(0.75).next_to(title1, DOWN)\n",
    "        pde2 = MathTex(r\"\\frac{\\partial^2 u(x,z,t)}{\\partial t^2}\",r\"=\", r\"c(x,z)^2\", r\"\\bigg[\\frac{\\partial^2 u(x,z,t)}{\\partial x^2} + \\frac{\\partial^2 u(x,z,t)}{\\partial z^2} \\bigg]\", r\"+\", r\"s(x,z,t)\").scale(0.5).next_to(title2, DOWN).to_edge(RIGHT)\n",
    "        self.play(Write(pde1), Write(pde2))\n",
    "        self.wait(1)\n",
    "        self.play(pde2.animate.set_opacity(0.25), pde2[3][16:-1].animate.set_opacity(1))\n",
    "        self.wait(1)\n",
    "        self.play(pde2.animate.set_opacity(1))\n",
    "        self.play(pde2.animate.set_opacity(0.25), pde2[2].animate.set_opacity(1))\n",
    "        self.wait(1)\n",
    "        self.play(pde2.animate.set_opacity(1))\n",
    "\n",
    "        # Boundaries\n",
    "        ax = Axes(\n",
    "            x_range=[0, 6, 1],\n",
    "            y_range=None,\n",
    "            tips=False,\n",
    "            axis_config={\"include_numbers\": False,\n",
    "                        \"include_ticks\": True},\n",
    "        ).scale(0.4).next_to(pde1, DOWN).shift(0.25*DOWN)\n",
    "        x_label = ax.get_x_axis_label(\"x\", edge=DOWN, direction=DOWN, buff=0.4).scale(0.7)\n",
    "        dots = VGroup()\n",
    "        for i in range(7):\n",
    "            dots.add(Dot(ax.coords_to_point(i, 0), color=RED))\n",
    "        g = ax.plot(lambda x: 0, color=RED)\n",
    "        self.play(Create(VGroup(ax, x_label, g)))\n",
    "        self.wait(1)\n",
    "        self.play(ReplacementTransform(g, dots))\n",
    "        self.wait(1)\n",
    "        d1 = Circle(radius=0.1, color=BLUE).move_to(dots[0])\n",
    "        d2 = Circle(radius=0.1, color=BLUE).move_to(dots[-1])\n",
    "        self.play(Create(d1), Create(d2))\n",
    "        self.wait(1)\n",
    "\n",
    "        ax_ = Axes(\n",
    "            x_range=[0, 10, 1],\n",
    "            y_range=[0, 10, 1],\n",
    "            tips=False,\n",
    "            axis_config={\"include_numbers\": True,\n",
    "                        \"include_ticks\": True},\n",
    "        ).scale(0.4).next_to(pde2, DOWN).shift(0.25*DOWN)\n",
    "        x_label_ = ax_.get_x_axis_label(\"x\", edge=DOWN, direction=DOWN, buff=0.4).scale(0.7)\n",
    "        y_label_ = ax_.get_y_axis_label(\"z\", edge=LEFT, direction=LEFT, buff=0.4).scale(0.7)\n",
    "        ax_labels = VGroup(x_label_, y_label_)\n",
    "        # Discrete points\n",
    "        dots_ = VGroup()\n",
    "        for i in range(11):\n",
    "            for j in range(11):\n",
    "                dots_.add(Dot(ax_.coords_to_point(i, j), color=RED))\n",
    "        self.play(Create(VGroup(ax_, ax_labels, dots_)))\n",
    "        self.wait(1)\n",
    "        sr1 = SurroundingRectangle(dots_[:11])\n",
    "        sr2 = SurroundingRectangle(dots_[-11:])\n",
    "        sr3 = SurroundingRectangle(dots_[::11])\n",
    "        sr4 = SurroundingRectangle(dots_[10::11])\n",
    "        self.play(Create(VGroup(sr1, sr2, sr3, sr4)))\n",
    "        self.wait(1)\n",
    "        self.play(FadeOut(pde1, pde2, ax, ax_, x_label, ax_labels, dots, dots_, d1, d2, sr1, sr2, sr3, sr4))\n",
    "        self.wait(5)\n",
    "        self.play(\n",
    "            *[FadeOut(mob)for mob in self.mobjects]\n",
    "        )\n",
    "        self.wait(1)"
   ]
  },
  {
   "cell_type": "markdown",
   "metadata": {},
   "source": [
    "# Conclusion"
   ]
  },
  {
   "cell_type": "code",
   "execution_count": 88,
   "metadata": {},
   "outputs": [
    {
     "data": {
      "text/html": [
       "<pre style=\"white-space:pre;overflow-x:auto;line-height:normal;font-family:Menlo,'DejaVu Sans Mono',consolas,'Courier New',monospace\">Manim Community <span style=\"color: #008000; text-decoration-color: #008000\">v0.18.1</span>\n",
       "\n",
       "</pre>\n"
      ],
      "text/plain": [
       "Manim Community \u001b[32mv0.\u001b[0m\u001b[32m18.1\u001b[0m\n",
       "\n"
      ]
     },
     "metadata": {},
     "output_type": "display_data"
    },
    {
     "name": "stderr",
     "output_type": "stream",
     "text": [
      "                                                                                                                    \r"
     ]
    },
    {
     "data": {
      "text/html": [
       "<video src=\"media/jupyter/Conclusion@2024-06-16@21-22-59.mp4\" controls autoplay loop style=\"max-width: 60%;\"  >\n",
       "      Your browser does not support the <code>video</code> element.\n",
       "    </video>"
      ],
      "text/plain": [
       "<IPython.core.display.Video object>"
      ]
     },
     "metadata": {},
     "output_type": "display_data"
    }
   ],
   "source": [
    "%%manim -qk -v WARNING Conclusion\n",
    "\n",
    "class Conclusion(Scene):\n",
    "    def construct(self):\n",
    "        text1 = Tex(r\"Extend to 3D and \\\\ add GPU support!\").scale(0.75).to_edge(LEFT).shift(2*DOWN+0.25*RIGHT)\n",
    "        sr1 = SurroundingRectangle(text1, buff=0.5)\n",
    "        self.play(Create(sr1))\n",
    "        self.play(Write(text1))\n",
    "        self.wait(1)\n",
    "\n",
    "        text2 = Tex(r\"Pseudospectral \\\\ Method?\").scale(0.75).shift(2*DOWN)\n",
    "        sr2 = SurroundingRectangle(text2, buff=0.5)\n",
    "        self.play(Create(sr2))\n",
    "        self.play(Write(text2))\n",
    "        self.wait(1)\n",
    "\n",
    "        text3 = Tex(r\"Finite Element \\\\ Method?\").scale(0.75).to_edge(RIGHT).shift(2*DOWN+0.25*LEFT)\n",
    "        sr3 = SurroundingRectangle(text3, buff=0.5)\n",
    "        self.play(Create(sr3))\n",
    "        self.play(Write(text3))\n",
    "        self.wait(1)\n",
    "\n",
    "        self.play(\n",
    "            *[FadeOut(mob)for mob in self.mobjects]\n",
    "        )\n",
    "        self.wait(1)\n",
    "\n",
    "        dialogue = Tex(\"Like\", \" and please do leave a\", \" Comment\", \"!\").scale(1.25)\n",
    "        dialogue[0].set_color(RED)\n",
    "        dialogue[-2].set_color(GREEN)\n",
    "        self.play(Write(dialogue))\n",
    "        self.wait(2)\n",
    "        self.play(\n",
    "            *[FadeOut(mob)for mob in self.mobjects]\n",
    "        )\n",
    "        self.wait(2)"
   ]
  },
  {
   "cell_type": "code",
   "execution_count": null,
   "metadata": {},
   "outputs": [],
   "source": []
  }
 ],
 "metadata": {
  "kernelspec": {
   "display_name": ".venv",
   "language": "python",
   "name": "python3"
  },
  "language_info": {
   "codemirror_mode": {
    "name": "ipython",
    "version": 3
   },
   "file_extension": ".py",
   "mimetype": "text/x-python",
   "name": "python",
   "nbconvert_exporter": "python",
   "pygments_lexer": "ipython3",
   "version": "3.12.3"
  }
 },
 "nbformat": 4,
 "nbformat_minor": 2
}
